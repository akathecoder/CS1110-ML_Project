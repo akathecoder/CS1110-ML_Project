{
  "nbformat": 4,
  "nbformat_minor": 0,
  "metadata": {
    "colab": {
      "name": "CS1110 ML.ipynb",
      "provenance": [],
      "collapsed_sections": [],
      "include_colab_link": true
    },
    "kernelspec": {
      "name": "python3",
      "display_name": "Python 3"
    },
    "language_info": {
      "name": "python"
    }
  },
  "cells": [
    {
      "cell_type": "markdown",
      "metadata": {
        "id": "view-in-github",
        "colab_type": "text"
      },
      "source": [
        "<a href=\"https://colab.research.google.com/github/akathecoder/CS1110-ML_Project/blob/main/main.ipynb\" target=\"_parent\"><img src=\"https://colab.research.google.com/assets/colab-badge.svg\" alt=\"Open In Colab\"/></a>"
      ]
    },
    {
      "cell_type": "markdown",
      "metadata": {
        "id": "BL5fds1pJ8oq"
      },
      "source": [
        "# ML Project"
      ]
    },
    {
      "cell_type": "markdown",
      "metadata": {
        "id": "27o1AAVVI6Sq"
      },
      "source": [
        "## Mount Google Drive"
      ]
    },
    {
      "cell_type": "code",
      "metadata": {
        "colab": {
          "base_uri": "https://localhost:8080/"
        },
        "id": "e6YxB5jlI4PF",
        "outputId": "3f65fc68-8595-4a7a-a847-7d7ff54b7daa"
      },
      "source": [
        "from google.colab import drive\n",
        "drive.mount('/content/drive')"
      ],
      "execution_count": 1,
      "outputs": [
        {
          "output_type": "stream",
          "name": "stdout",
          "text": [
            "Mounted at /content/drive\n"
          ]
        }
      ]
    },
    {
      "cell_type": "markdown",
      "metadata": {
        "id": "aoTI-oDoKB0O"
      },
      "source": [
        "## Import Images\n",
        "\n",
        "**Label**\n",
        "- Normal : 0\n",
        "- Covid : 1\n",
        "- Lung_Opacity : 2\n",
        "- Pneumonia : 3"
      ]
    },
    {
      "cell_type": "code",
      "metadata": {
        "id": "F1AfTv43KDO7"
      },
      "source": [
        "# importing libraries\n",
        "from pathlib import Path\n",
        "import glob\n",
        "import pandas as pd\n",
        "\n",
        "train_data = []\n",
        "\n",
        "# reading images from path (Normal)\n",
        "normal_images_dir = Path('/content/drive/MyDrive/ML/COVID-19_Radiography_Dataset/Normal')\n",
        "normal_images = covid_images_dir.glob(\"*.png\")\n",
        "\n",
        "for img in normal_images:\n",
        "    train_data.append((img, 0))\n",
        "\n",
        "# reading images from path (Covid)\n",
        "covid_images_dir = Path('/content/drive/MyDrive/ML/COVID-19_Radiography_Dataset/COVID')\n",
        "covid_images = covid_images_dir.glob(\"*.png\")\n",
        "\n",
        "for img in covid_images:\n",
        "    train_data.append((img, 1))\n",
        "\n",
        "# reading images from path (Lung Opacity)\n",
        "lung_opacity_images_dir = Path('/content/drive/MyDrive/ML/COVID-19_Radiography_Dataset/Lung_Opacity')\n",
        "lung_opacity_images = covid_images_dir.glob(\"*.png\")\n",
        "\n",
        "for img in lung_opacity_images:\n",
        "    train_data.append((img, 2))\n",
        "\n",
        "# reading images from path (Pneumonia)\n",
        "pneumonia_images_dir = Path('/content/drive/MyDrive/ML/COVID-19_Radiography_Dataset/Viral Pneumonia')\n",
        "pneumonia_images = covid_images_dir.glob(\"*.png\")\n",
        "\n",
        "for img in pneumonia_images:\n",
        "    train_data.append((img, 3))"
      ],
      "execution_count": 9,
      "outputs": []
    },
    {
      "cell_type": "code",
      "metadata": {
        "id": "NiBogB3RSA5H"
      },
      "source": [
        "# converting data into pandas dataframe for easy visualization \n",
        "train_data = pd.DataFrame(train_data, columns=['image','label'], index = None)"
      ],
      "execution_count": 10,
      "outputs": []
    },
    {
      "cell_type": "code",
      "metadata": {
        "colab": {
          "base_uri": "https://localhost:8080/",
          "height": 419
        },
        "id": "JExfzQlkXu2s",
        "outputId": "92623039-e7ba-4e96-c115-6878de8502c4"
      },
      "source": [
        "train_data"
      ],
      "execution_count": 11,
      "outputs": [
        {
          "output_type": "execute_result",
          "data": {
            "text/html": [
              "<div>\n",
              "<style scoped>\n",
              "    .dataframe tbody tr th:only-of-type {\n",
              "        vertical-align: middle;\n",
              "    }\n",
              "\n",
              "    .dataframe tbody tr th {\n",
              "        vertical-align: top;\n",
              "    }\n",
              "\n",
              "    .dataframe thead th {\n",
              "        text-align: right;\n",
              "    }\n",
              "</style>\n",
              "<table border=\"1\" class=\"dataframe\">\n",
              "  <thead>\n",
              "    <tr style=\"text-align: right;\">\n",
              "      <th></th>\n",
              "      <th>image</th>\n",
              "      <th>label</th>\n",
              "    </tr>\n",
              "  </thead>\n",
              "  <tbody>\n",
              "    <tr>\n",
              "      <th>0</th>\n",
              "      <td>/content/drive/MyDrive/ML/COVID-19_Radiography...</td>\n",
              "      <td>0</td>\n",
              "    </tr>\n",
              "    <tr>\n",
              "      <th>1</th>\n",
              "      <td>/content/drive/MyDrive/ML/COVID-19_Radiography...</td>\n",
              "      <td>0</td>\n",
              "    </tr>\n",
              "    <tr>\n",
              "      <th>2</th>\n",
              "      <td>/content/drive/MyDrive/ML/COVID-19_Radiography...</td>\n",
              "      <td>0</td>\n",
              "    </tr>\n",
              "    <tr>\n",
              "      <th>3</th>\n",
              "      <td>/content/drive/MyDrive/ML/COVID-19_Radiography...</td>\n",
              "      <td>0</td>\n",
              "    </tr>\n",
              "    <tr>\n",
              "      <th>4</th>\n",
              "      <td>/content/drive/MyDrive/ML/COVID-19_Radiography...</td>\n",
              "      <td>0</td>\n",
              "    </tr>\n",
              "    <tr>\n",
              "      <th>...</th>\n",
              "      <td>...</td>\n",
              "      <td>...</td>\n",
              "    </tr>\n",
              "    <tr>\n",
              "      <th>14499</th>\n",
              "      <td>/content/drive/MyDrive/ML/COVID-19_Radiography...</td>\n",
              "      <td>3</td>\n",
              "    </tr>\n",
              "    <tr>\n",
              "      <th>14500</th>\n",
              "      <td>/content/drive/MyDrive/ML/COVID-19_Radiography...</td>\n",
              "      <td>3</td>\n",
              "    </tr>\n",
              "    <tr>\n",
              "      <th>14501</th>\n",
              "      <td>/content/drive/MyDrive/ML/COVID-19_Radiography...</td>\n",
              "      <td>3</td>\n",
              "    </tr>\n",
              "    <tr>\n",
              "      <th>14502</th>\n",
              "      <td>/content/drive/MyDrive/ML/COVID-19_Radiography...</td>\n",
              "      <td>3</td>\n",
              "    </tr>\n",
              "    <tr>\n",
              "      <th>14503</th>\n",
              "      <td>/content/drive/MyDrive/ML/COVID-19_Radiography...</td>\n",
              "      <td>3</td>\n",
              "    </tr>\n",
              "  </tbody>\n",
              "</table>\n",
              "<p>14504 rows × 2 columns</p>\n",
              "</div>"
            ],
            "text/plain": [
              "                                                   image  label\n",
              "0      /content/drive/MyDrive/ML/COVID-19_Radiography...      0\n",
              "1      /content/drive/MyDrive/ML/COVID-19_Radiography...      0\n",
              "2      /content/drive/MyDrive/ML/COVID-19_Radiography...      0\n",
              "3      /content/drive/MyDrive/ML/COVID-19_Radiography...      0\n",
              "4      /content/drive/MyDrive/ML/COVID-19_Radiography...      0\n",
              "...                                                  ...    ...\n",
              "14499  /content/drive/MyDrive/ML/COVID-19_Radiography...      3\n",
              "14500  /content/drive/MyDrive/ML/COVID-19_Radiography...      3\n",
              "14501  /content/drive/MyDrive/ML/COVID-19_Radiography...      3\n",
              "14502  /content/drive/MyDrive/ML/COVID-19_Radiography...      3\n",
              "14503  /content/drive/MyDrive/ML/COVID-19_Radiography...      3\n",
              "\n",
              "[14504 rows x 2 columns]"
            ]
          },
          "metadata": {},
          "execution_count": 11
        }
      ]
    }
  ]
}