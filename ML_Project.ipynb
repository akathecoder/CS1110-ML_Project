{
  "nbformat": 4,
  "nbformat_minor": 0,
  "metadata": {
    "colab": {
      "name": "ML Project.ipynb",
      "provenance": [],
      "authorship_tag": "ABX9TyOwkN/WdR9PmsPyv/GVnuEp",
      "include_colab_link": true
    },
    "kernelspec": {
      "name": "python3",
      "display_name": "Python 3"
    },
    "language_info": {
      "name": "python"
    }
  },
  "cells": [
    {
      "cell_type": "markdown",
      "metadata": {
        "id": "view-in-github",
        "colab_type": "text"
      },
      "source": [
        "<a href=\"https://colab.research.google.com/github/akathecoder/CS1110-ML_Project/blob/main/ML_Project.ipynb\" target=\"_parent\"><img src=\"https://colab.research.google.com/assets/colab-badge.svg\" alt=\"Open In Colab\"/></a>"
      ]
    },
    {
      "cell_type": "code",
      "metadata": {
        "id": "eWCsnHpFSz80"
      },
      "source": [
        "# Importing Libraries\n",
        "import numpy as np\n",
        "import pandas as pd\n",
        "import matplotlib.pyplot as plt\n",
        "import seaborn as sns\n",
        "from pathlib import Path\n",
        "import glob\n",
        "import pandas as pd\n",
        "import cv2\n",
        "import random\n",
        "from scipy import ndimage"
      ],
      "execution_count": null,
      "outputs": []
    },
    {
      "cell_type": "code",
      "metadata": {
        "id": "KmFsyOLPS9ng"
      },
      "source": [
        "# Reading images from path\n",
        "covid_images_dir = Path('../input/covid19-radiography-database/COVID-19_Radiography_Dataset/COVID')\n",
        "covid_images = covid_images_dir.glob(\"*.png\")\n",
        "\n",
        "normal_images_dir = Path('../input/covid19-radiography-database/COVID-19_Radiography_Dataset/Normal')\n",
        "normal_images = normal_images_dir.glob(\"*.png\")\n",
        "\n",
        "pneumonia_images_dir = Path('../input/covid19-radiography-database/COVID-19_Radiography_Dataset/Viral Pneumonia')\n",
        "pneumonia_images = pneumonia_images_dir.glob(\"*.png\")"
      ],
      "execution_count": null,
      "outputs": []
    },
    {
      "cell_type": "code",
      "metadata": {
        "id": "8KWXL5PsS-4x"
      },
      "source": [
        "train_data = []\n",
        "\n",
        "def hist(img):\n",
        "    img_to_yuv = cv2.cvtColor(img,cv2.COLOR_BGR2YUV)\n",
        "    img_to_yuv[:,:,0] = cv2.equalizeHist(img_to_yuv[:,:,0])\n",
        "    hist_equalization_result = cv2.cvtColor(img_to_yuv, cv2.COLOR_YUV2BGR)\n",
        "    return hist_equalization_result\n",
        "\n",
        "def addImage(img, label):\n",
        "    img = cv2.resize(img, (229,229))\n",
        "    img = cv2.cvtColor(img, cv2.COLOR_BGR2GRAY)\n",
        "    img = ndimage.gaussian_filter(img, sigma= 5.11)\n",
        "    train_data.append((hist(img), label))\n",
        "    img = cv2.flip(img, 0)\n",
        "    train_data.append((hist(img), label))\n",
        "    img = cv2.flip(img, 1)\n",
        "    train_data.append((hist(img), label))    "
      ],
      "execution_count": null,
      "outputs": []
    },
    {
      "cell_type": "code",
      "metadata": {
        "id": "t_ktFWpfS_YT"
      },
      "source": [
        "for img in normal_images:\n",
        "    addImage(img, 0)\n",
        "    \n",
        "for img in covid_images:\n",
        "    addImage(img, 1)\n",
        "\n",
        "for img in pneumonia_images:\n",
        "    addImage(img, 2)"
      ],
      "execution_count": null,
      "outputs": []
    },
    {
      "cell_type": "code",
      "metadata": {
        "id": "RS5vAMMsTB0Q"
      },
      "source": [
        "# converting data into pandas dataframe for easy visualization \n",
        "train_data = pd.DataFrame(train_data, columns=['image','label'], index = None)"
      ],
      "execution_count": null,
      "outputs": []
    },
    {
      "cell_type": "code",
      "metadata": {
        "id": "bR1cq6P9TEHo"
      },
      "source": [
        "train_data.head()"
      ],
      "execution_count": null,
      "outputs": []
    }
  ]
}